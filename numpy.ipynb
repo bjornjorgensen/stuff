{
 "metadata": {
  "language_info": {
   "codemirror_mode": {
    "name": "ipython",
    "version": 3
   },
   "file_extension": ".py",
   "mimetype": "text/x-python",
   "name": "python",
   "nbconvert_exporter": "python",
   "pygments_lexer": "ipython3",
   "version": 3
  },
  "orig_nbformat": 2,
  "kernelspec": {
   "name": "python_defaultSpec_1597054498450",
   "display_name": "Python 3.8.5 64-bit ('base': conda)"
  }
 },
 "nbformat": 4,
 "nbformat_minor": 2,
 "cells": [
  {
   "cell_type": "markdown",
   "metadata": {},
   "source": [
    "# NumPy Exercise\n",
    "\n"
   ]
  },
  {
   "cell_type": "markdown",
   "metadata": {},
   "source": [
    "This is taken from Wie Kiang H.\n",
    "https://towardsdatascience.com/data-science-with-python-how-to-use-numpy-library-5885aa83be6b"
   ]
  },
  {
   "cell_type": "code",
   "execution_count": 61,
   "metadata": {
    "tags": []
   },
   "outputs": [
    {
     "output_type": "stream",
     "name": "stdout",
     "text": "Requirement already satisfied: numpy in c:\\users\\ujorbjo00\\anaconda3\\lib\\site-packages (1.19.1)\n"
    }
   ],
   "source": [
    "#to install numpy using pip\n",
    "!pip install numpy"
   ]
  },
  {
   "cell_type": "markdown",
   "metadata": {},
   "source": [
    "Load the numpy library\n",
    "\n"
   ]
  },
  {
   "cell_type": "code",
   "execution_count": 10,
   "metadata": {},
   "outputs": [],
   "source": [
    "import numpy as np"
   ]
  },
  {
   "cell_type": "markdown",
   "metadata": {},
   "source": [
    "# — array\n",
    "\n",
    "Numpy¹ array essentially comes in two flavors, one-dimensional vectors or two-dimensional matrices. They can both be called an array. Vectors are strictly one-dimension array and matrices are two-dimensional array. Also, note that a matrix can still only have one row or one column."
   ]
  },
  {
   "cell_type": "code",
   "execution_count": 12,
   "metadata": {
    "tags": []
   },
   "outputs": [
    {
     "output_type": "stream",
     "name": "stdout",
     "text": "[1 2 3]\n"
    }
   ],
   "source": [
    "list_of_numbers = [1,2,3]\n",
    "arr = np.array(list_of_numbers)\n",
    "print(arr)"
   ]
  },
  {
   "cell_type": "code",
   "execution_count": 14,
   "metadata": {},
   "outputs": [
    {
     "output_type": "execute_result",
     "data": {
      "text/plain": "array([[1, 2, 3],\n       [4, 5, 6],\n       [7, 8, 9]])"
     },
     "metadata": {},
     "execution_count": 14
    }
   ],
   "source": [
    "list_of_matrix = [[1,2,3],[4,5,6],[7,8,9]]\n",
    "np.array(list_of_matrix)"
   ]
  },
  {
   "cell_type": "markdown",
   "metadata": {},
   "source": [
    "We might see that list can be used as an array. Additionally, we can assign an array to a variable."
   ]
  },
  {
   "cell_type": "markdown",
   "metadata": {},
   "source": [
    "# — arange\n",
    "\n",
    "This is really similar to Python’s built-in range function. It is represented with a syntax np.arrange and then passes in a start and stop value. Notice that we have a start, stop, and step size in the third argument. It will return evenly spaced values within the given interval. If we just put it from 0 to 10, remember just like in Python that range indexing starts at 0. It will return a value from 0 up to but not including 10. As a result, we will get an array back from 0 all the way up to 9, it is a 10 digits number. If we want to get the value from 0 all the way to 10, we have to type np.arange(0,11)."
   ]
  },
  {
   "cell_type": "code",
   "execution_count": 15,
   "metadata": {},
   "outputs": [
    {
     "output_type": "execute_result",
     "data": {
      "text/plain": "array([0, 1, 2, 3, 4, 5, 6, 7, 8, 9])"
     },
     "metadata": {},
     "execution_count": 15
    }
   ],
   "source": [
    "np.arange(0,10)"
   ]
  },
  {
   "cell_type": "code",
   "execution_count": 16,
   "metadata": {},
   "outputs": [
    {
     "output_type": "execute_result",
     "data": {
      "text/plain": "array([ 0,  1,  2,  3,  4,  5,  6,  7,  8,  9, 10])"
     },
     "metadata": {},
     "execution_count": 16
    }
   ],
   "source": [
    "np.arange(0,11)"
   ]
  },
  {
   "cell_type": "code",
   "execution_count": 17,
   "metadata": {},
   "outputs": [
    {
     "output_type": "execute_result",
     "data": {
      "text/plain": "array([ 0,  2,  4,  6,  8, 10])"
     },
     "metadata": {},
     "execution_count": 17
    }
   ],
   "source": [
    "np.arange(0,11,2)"
   ]
  },
  {
   "cell_type": "markdown",
   "metadata": {},
   "source": [
    "Finally, we can add a third argument, which is a step size. For example, we want an array of even numbers from 0 to 10. We could insert an argument 0,11. Following a step size of 2. So that, it will jump in steps of 2. All in all, a range is going to be one of the most useful functions for quickly generating an array using NumPy."
   ]
  },
  {
   "cell_type": "markdown",
   "metadata": {},
   "source": [
    "# — zeros and ones\n",
    "\n",
    "NumPy can generate another type of array. For instance, if we want to generate arrays of all 0, we can use zeros method. We can pass in a single-digit or tuple. For a single digit, it will give a result of a dimensional vector. In tuple, on the other hand, the first number is going to represent the number of rows and the second number in that tuple is going to represent the number of columns. For example, to generate 3 rows by 4 columns we can pass in the tuple (3,4)."
   ]
  },
  {
   "cell_type": "code",
   "execution_count": 18,
   "metadata": {},
   "outputs": [
    {
     "output_type": "execute_result",
     "data": {
      "text/plain": "array([0., 0., 0., 0., 0.])"
     },
     "metadata": {},
     "execution_count": 18
    }
   ],
   "source": [
    "np.zeros(5)"
   ]
  },
  {
   "cell_type": "code",
   "execution_count": 19,
   "metadata": {},
   "outputs": [
    {
     "output_type": "execute_result",
     "data": {
      "text/plain": "array([[0., 0., 0., 0.],\n       [0., 0., 0., 0.],\n       [0., 0., 0., 0.]])"
     },
     "metadata": {},
     "execution_count": 19
    }
   ],
   "source": [
    "np.zeros((3,4))"
   ]
  },
  {
   "cell_type": "markdown",
   "metadata": {},
   "source": [
    "Furthermore, to generate pure ones, we can call method ones. Similarly, we can pass in either a single number for a one-dimensional array or a tuple of dimension for a two-dimensional matrix."
   ]
  },
  {
   "cell_type": "code",
   "execution_count": 20,
   "metadata": {},
   "outputs": [
    {
     "output_type": "execute_result",
     "data": {
      "text/plain": "array([1., 1., 1., 1., 1.])"
     },
     "metadata": {},
     "execution_count": 20
    }
   ],
   "source": [
    "np.ones(5)"
   ]
  },
  {
   "cell_type": "code",
   "execution_count": 21,
   "metadata": {},
   "outputs": [
    {
     "output_type": "execute_result",
     "data": {
      "text/plain": "array([[1., 1., 1., 1.],\n       [1., 1., 1., 1.],\n       [1., 1., 1., 1.]])"
     },
     "metadata": {},
     "execution_count": 21
    }
   ],
   "source": [
    "np.ones((3,4))"
   ]
  },
  {
   "cell_type": "markdown",
   "metadata": {},
   "source": [
    "# — linspace\n",
    "\n",
    "The other really useful built-in function is linspace. This function will return evenly spaced numbers over a specified interval. It is important not to confuse between linspace and arange which we have been discussed before. We can see that arange basically returns integers out from a start, stop, and given step size, while linspace is going to take a third argument of the number as points we want.\n",
    "\n",
    "For example, we have a start of 0 and a stop of 5 in linspace and we want to get 10 evenly spaced points between 0 to 5. We can pass in a third argument 10. This command will return back a one-dimensional vector noted by the set of brackets of 10 evenly spaced points from 0 to 5.\n",
    "\n",
    "Moreover, we can change the third argument to whatever number. For instance, if we want 100 evenly spaced points from 0 to 5, we can pass that number in the third argument. This will returns a much larger one-dimensional array. Even though it looks like a two-dimensional array, it is one-dimensional by the fact that there is only one bracket in front of the array."
   ]
  },
  {
   "cell_type": "code",
   "execution_count": 22,
   "metadata": {},
   "outputs": [
    {
     "output_type": "execute_result",
     "data": {
      "text/plain": "array([0.        , 0.55555556, 1.11111111, 1.66666667, 2.22222222,\n       2.77777778, 3.33333333, 3.88888889, 4.44444444, 5.        ])"
     },
     "metadata": {},
     "execution_count": 22
    }
   ],
   "source": [
    "np.linspace(0,5,10)"
   ]
  },
  {
   "cell_type": "code",
   "execution_count": 23,
   "metadata": {},
   "outputs": [
    {
     "output_type": "execute_result",
     "data": {
      "text/plain": "array([0.        , 0.05050505, 0.1010101 , 0.15151515, 0.2020202 ,\n       0.25252525, 0.3030303 , 0.35353535, 0.4040404 , 0.45454545,\n       0.50505051, 0.55555556, 0.60606061, 0.65656566, 0.70707071,\n       0.75757576, 0.80808081, 0.85858586, 0.90909091, 0.95959596,\n       1.01010101, 1.06060606, 1.11111111, 1.16161616, 1.21212121,\n       1.26262626, 1.31313131, 1.36363636, 1.41414141, 1.46464646,\n       1.51515152, 1.56565657, 1.61616162, 1.66666667, 1.71717172,\n       1.76767677, 1.81818182, 1.86868687, 1.91919192, 1.96969697,\n       2.02020202, 2.07070707, 2.12121212, 2.17171717, 2.22222222,\n       2.27272727, 2.32323232, 2.37373737, 2.42424242, 2.47474747,\n       2.52525253, 2.57575758, 2.62626263, 2.67676768, 2.72727273,\n       2.77777778, 2.82828283, 2.87878788, 2.92929293, 2.97979798,\n       3.03030303, 3.08080808, 3.13131313, 3.18181818, 3.23232323,\n       3.28282828, 3.33333333, 3.38383838, 3.43434343, 3.48484848,\n       3.53535354, 3.58585859, 3.63636364, 3.68686869, 3.73737374,\n       3.78787879, 3.83838384, 3.88888889, 3.93939394, 3.98989899,\n       4.04040404, 4.09090909, 4.14141414, 4.19191919, 4.24242424,\n       4.29292929, 4.34343434, 4.39393939, 4.44444444, 4.49494949,\n       4.54545455, 4.5959596 , 4.64646465, 4.6969697 , 4.74747475,\n       4.7979798 , 4.84848485, 4.8989899 , 4.94949495, 5.        ])"
     },
     "metadata": {},
     "execution_count": 23
    }
   ],
   "source": [
    "np.linspace(0,5,100)"
   ]
  },
  {
   "cell_type": "markdown",
   "metadata": {},
   "source": [
    "Keep note, when we were dealing with two dimensions we will see that they have two sets of brackets on the opening or closing at the ends. Three dimensions will have three brackets and so on."
   ]
  },
  {
   "cell_type": "markdown",
   "metadata": {},
   "source": [
    "# — eye\n",
    "\n",
    "We can use eye to create an identity matrix using NumPy. We only need to pass a single digit in the argument. The identity matrix is a useful matrix when dealing with linear algebra problems. It is basically a two-dimensional square matrix, in which the number of rows is the same as a number of columns. It has a diagonal of ones and everything else is zeros. This is the reason it only takes a single digit as an argument. The identity matrix must be square as the output of np.eye."
   ]
  },
  {
   "cell_type": "code",
   "execution_count": 24,
   "metadata": {},
   "outputs": [
    {
     "output_type": "execute_result",
     "data": {
      "text/plain": "array([[1., 0., 0., 0.],\n       [0., 1., 0., 0.],\n       [0., 0., 1., 0.],\n       [0., 0., 0., 1.]])"
     },
     "metadata": {},
     "execution_count": 24
    }
   ],
   "source": [
    "np.eye(4)"
   ]
  },
  {
   "cell_type": "markdown",
   "metadata": {},
   "source": [
    "# — random.rand\n",
    "\n",
    "NumPy also has lots of ways to create an array of random numbers. The first one is random.rand. This command is going to create an array from the given shape. It is going to populate with random samples from a uniform distribution, over 0 to 1. If we want eight one-dimensional arrays of random numbers uniformly distributed from 0 to 1, we can give a number 8 in the argument. However, we can pass in the dimensions as separate arguments to get a two-dimensional array. For instance, if we want a 5x5 matrix of random numbers, we pass 5,5 instead of a tuple in the argument."
   ]
  },
  {
   "cell_type": "code",
   "execution_count": 25,
   "metadata": {},
   "outputs": [
    {
     "output_type": "execute_result",
     "data": {
      "text/plain": "array([0.07789724, 0.28649927, 0.64432387, 0.06218797, 0.06260633,\n       0.34890409, 0.91738433, 0.69264981])"
     },
     "metadata": {},
     "execution_count": 25
    }
   ],
   "source": [
    "np.random.rand(8)"
   ]
  },
  {
   "cell_type": "code",
   "execution_count": 26,
   "metadata": {},
   "outputs": [
    {
     "output_type": "execute_result",
     "data": {
      "text/plain": "array([[0.51928536, 0.62501053, 0.11541673, 0.70469722, 0.70268122],\n       [0.57074659, 0.93987756, 0.68676625, 0.49590073, 0.5380121 ],\n       [0.68451998, 0.00452096, 0.55730997, 0.07161046, 0.10338339],\n       [0.48427485, 0.48389618, 0.91598182, 0.91598103, 0.89906484],\n       [0.00668818, 0.17600805, 0.08723096, 0.29940205, 0.38191527]])"
     },
     "metadata": {},
     "execution_count": 26
    }
   ],
   "source": [
    "np.random.rand(5,5)"
   ]
  },
  {
   "cell_type": "markdown",
   "metadata": {},
   "source": [
    "# — random.randn\n",
    "\n",
    "Secondly, instead of using rand, we can use randn to return a sample or many samples from the standard normal distribution or Gaussian distribution. This will not return numbers from a uniform distribution from 0 to 1, however, it will return numbers from a standard normal distribution center around 0. Furthermore, to get a two-dimensional array, we can pass in two dimensions argument. For example, to generate a 4x4, we can pass an argument 4,4. Keep in mind that this argument is not a tuple. This is a separate argument and we can realize from the output given by the set of two brackets, which is a two-dimensional matrix."
   ]
  },
  {
   "cell_type": "code",
   "execution_count": 27,
   "metadata": {},
   "outputs": [
    {
     "output_type": "execute_result",
     "data": {
      "text/plain": "array([ 0.48516833,  0.13817559,  0.87041407,  0.02581859, -0.39768527])"
     },
     "metadata": {},
     "execution_count": 27
    }
   ],
   "source": [
    "np.random.randn(5)"
   ]
  },
  {
   "cell_type": "code",
   "execution_count": 28,
   "metadata": {},
   "outputs": [
    {
     "output_type": "execute_result",
     "data": {
      "text/plain": "array([[-0.77814862, -0.96218184,  0.72254149,  0.49670961],\n       [-0.93026571,  1.09245579,  0.23853989,  1.70734348],\n       [-0.26439132,  0.97695684,  0.29217115,  0.10120451],\n       [ 0.45918896,  0.93006937, -0.2519507 ,  0.36190089]])"
     },
     "metadata": {},
     "execution_count": 28
    }
   ],
   "source": [
    "np.random.randn(4,4)"
   ]
  },
  {
   "cell_type": "markdown",
   "metadata": {},
   "source": [
    "# — random.randint\n",
    "\n",
    "The final random method of creating an array is randint. This will returns random integers from a low to a high number. For instance, if we insert 1,100 in the argument, we will get a random integer between 1 and 100. The low number is inclusive, while the high number is exclusive. The number 1 has the chance of being selected but 100 is not. Additionally, if we want a particular number of random integers, we can pass the argument in the third argument."
   ]
  },
  {
   "cell_type": "code",
   "execution_count": 29,
   "metadata": {},
   "outputs": [
    {
     "output_type": "execute_result",
     "data": {
      "text/plain": "18"
     },
     "metadata": {},
     "execution_count": 29
    }
   ],
   "source": [
    "np.random.randint(1, 100)"
   ]
  },
  {
   "cell_type": "code",
   "execution_count": 30,
   "metadata": {},
   "outputs": [
    {
     "output_type": "execute_result",
     "data": {
      "text/plain": "array([ 1, 53,  3, 87, 51, 48,  6, 38, 15, 56])"
     },
     "metadata": {},
     "execution_count": 30
    }
   ],
   "source": [
    "np.random.randint(1, 100, 10)"
   ]
  },
  {
   "cell_type": "markdown",
   "metadata": {},
   "source": [
    "# — reshape\n",
    "\n",
    "One of the most useful methods we can use on an array is the reshape method. This method is going to return an array containing the same data in a new shape. For example, if we want to reshape an array which contains 24 digits. We can reshape the 24 digits array using reshape to 4x6 array and passing the number of rows and the number of columns in the argument. Keep in mind that we will get an error if we can not fill up the matrix completely. For instance, if we want to reshape 24 elements, the total number of the new shape must be the same as 24 elements in the array."
   ]
  },
  {
   "cell_type": "code",
   "execution_count": 31,
   "metadata": {
    "tags": []
   },
   "outputs": [
    {
     "output_type": "stream",
     "name": "stdout",
     "text": "[22 66 54 81 62 82 83 80 72 14 55 92 15 35 26 66  4 13 41  9  2 16 29 25]\n"
    }
   ],
   "source": [
    "arr = np.random.randint(1, 100, 24)\n",
    "print(arr)"
   ]
  },
  {
   "cell_type": "code",
   "execution_count": 32,
   "metadata": {},
   "outputs": [
    {
     "output_type": "error",
     "ename": "ValueError",
     "evalue": "cannot reshape array of size 24 into shape (5,5)",
     "traceback": [
      "\u001b[1;31m---------------------------------------------------------------------------\u001b[0m",
      "\u001b[1;31mValueError\u001b[0m                                Traceback (most recent call last)",
      "\u001b[1;32m<ipython-input-32-5e6094aeb4ce>\u001b[0m in \u001b[0;36m<module>\u001b[1;34m\u001b[0m\n\u001b[1;32m----> 1\u001b[1;33m \u001b[0marr\u001b[0m\u001b[1;33m.\u001b[0m\u001b[0mreshape\u001b[0m\u001b[1;33m(\u001b[0m\u001b[1;36m5\u001b[0m\u001b[1;33m,\u001b[0m\u001b[1;36m5\u001b[0m\u001b[1;33m)\u001b[0m\u001b[1;33m\u001b[0m\u001b[1;33m\u001b[0m\u001b[0m\n\u001b[0m",
      "\u001b[1;31mValueError\u001b[0m: cannot reshape array of size 24 into shape (5,5)"
     ]
    }
   ],
   "source": [
    "arr.reshape(5,5)"
   ]
  },
  {
   "cell_type": "code",
   "execution_count": 33,
   "metadata": {},
   "outputs": [
    {
     "output_type": "execute_result",
     "data": {
      "text/plain": "array([[22, 66, 54, 81, 62, 82],\n       [83, 80, 72, 14, 55, 92],\n       [15, 35, 26, 66,  4, 13],\n       [41,  9,  2, 16, 29, 25]])"
     },
     "metadata": {},
     "execution_count": 33
    }
   ],
   "source": [
    "arr.reshape(4,6)"
   ]
  },
  {
   "cell_type": "markdown",
   "metadata": {},
   "source": [
    "# — max and min\n",
    "\n",
    "If we want to find the max value in an array, we can call the max method and this will return the maximum value of that array. Similarly, if we want to get the minimum value of the array, we can call the min method."
   ]
  },
  {
   "cell_type": "code",
   "execution_count": 35,
   "metadata": {
    "tags": []
   },
   "outputs": [
    {
     "output_type": "stream",
     "name": "stdout",
     "text": "[41 93 16 23 23 23 16 92 94 45 17 33  5 20 48 89 38 17 15 76 10 34 56 28]\n"
    }
   ],
   "source": [
    "arr = np.random.randint(0, 100, 24)\n",
    "print(arr)"
   ]
  },
  {
   "cell_type": "code",
   "execution_count": 36,
   "metadata": {},
   "outputs": [
    {
     "output_type": "execute_result",
     "data": {
      "text/plain": "94"
     },
     "metadata": {},
     "execution_count": 36
    }
   ],
   "source": [
    "arr.max()"
   ]
  },
  {
   "cell_type": "code",
   "execution_count": 37,
   "metadata": {},
   "outputs": [
    {
     "output_type": "execute_result",
     "data": {
      "text/plain": "5"
     },
     "metadata": {},
     "execution_count": 37
    }
   ],
   "source": [
    "arr.min()"
   ]
  },
  {
   "cell_type": "markdown",
   "metadata": {},
   "source": [
    "# — argmax and argmin\n",
    "\n",
    "Moreover, we can actually figure out the location of the maximum or minimum values by specifying argmax or argmin method. If we want to actually know what the index value of the maximum number, we can call argmax and it will return the index location of the maximum value. On the other hand, we can do the same thing with the minimum value. We can call argmin and it will return the index location of the minimum value."
   ]
  },
  {
   "cell_type": "code",
   "execution_count": 39,
   "metadata": {
    "tags": []
   },
   "outputs": [
    {
     "output_type": "stream",
     "name": "stdout",
     "text": "[97 19 98 45  5 47 22 11 74 90 50 95 86 70  7 45 90 12 43 30 48 57 70 55]\n"
    }
   ],
   "source": [
    "arr = np.random.randint(0, 100, 24)\n",
    "print(arr)"
   ]
  },
  {
   "cell_type": "code",
   "execution_count": 40,
   "metadata": {},
   "outputs": [
    {
     "output_type": "execute_result",
     "data": {
      "text/plain": "2"
     },
     "metadata": {},
     "execution_count": 40
    }
   ],
   "source": [
    "arr.argmax()"
   ]
  },
  {
   "cell_type": "code",
   "execution_count": 41,
   "metadata": {},
   "outputs": [
    {
     "output_type": "execute_result",
     "data": {
      "text/plain": "4"
     },
     "metadata": {},
     "execution_count": 41
    }
   ],
   "source": [
    "arr.argmin()"
   ]
  },
  {
   "cell_type": "markdown",
   "metadata": {},
   "source": [
    "# — shape\n",
    "\n",
    "If we want to figure out the shape of the vector, we can call method shape and it will return back the shape. If it is a one-dimensional vector, it will give us a result of the number of the elements following by a comma."
   ]
  },
  {
   "cell_type": "code",
   "execution_count": 43,
   "metadata": {
    "tags": []
   },
   "outputs": [
    {
     "output_type": "stream",
     "name": "stdout",
     "text": "[96 73 32 87 88 32 49 63 57 99 85 76 15 35 97  3 79 53 52 19 98 82 41  6]\n"
    }
   ],
   "source": [
    "arr = np.random.randint(0, 100, 24)\n",
    "print(arr)"
   ]
  },
  {
   "cell_type": "code",
   "execution_count": 44,
   "metadata": {},
   "outputs": [
    {
     "output_type": "execute_result",
     "data": {
      "text/plain": "(24,)"
     },
     "metadata": {},
     "execution_count": 44
    }
   ],
   "source": [
    "arr.shape"
   ]
  },
  {
   "cell_type": "code",
   "execution_count": 46,
   "metadata": {},
   "outputs": [],
   "source": [
    "arr = arr.reshape(4, 6)"
   ]
  },
  {
   "cell_type": "code",
   "execution_count": 47,
   "metadata": {},
   "outputs": [
    {
     "output_type": "execute_result",
     "data": {
      "text/plain": "(4, 6)"
     },
     "metadata": {},
     "execution_count": 47
    }
   ],
   "source": [
    "arr.shape"
   ]
  },
  {
   "cell_type": "markdown",
   "metadata": {},
   "source": [
    "# — dtype\n",
    "\n",
    "The other useful attribute is the data type in an array. If we were ever curious about what data type we have in an array, we can call dtype as an attribute and it will return the actual data type of the array."
   ]
  },
  {
   "cell_type": "code",
   "execution_count": 48,
   "metadata": {},
   "outputs": [
    {
     "output_type": "execute_result",
     "data": {
      "text/plain": "dtype('int32')"
     },
     "metadata": {},
     "execution_count": 48
    }
   ],
   "source": [
    "arr.dtype"
   ]
  },
  {
   "cell_type": "markdown",
   "metadata": {},
   "source": [
    "# Indexing and Selection\n",
    "\n",
    "The easiest way to grab one or some elements from a NumPy array is by using brackets and slice notation. Let start with declaring a variable name of the array itself; in this case, we call it my_array."
   ]
  },
  {
   "cell_type": "code",
   "execution_count": 50,
   "metadata": {
    "tags": []
   },
   "outputs": [
    {
     "output_type": "stream",
     "name": "stdout",
     "text": "[10 18 26 34 42 50 58 66 74 82 90 98] \n\n74\n[18 26 34 42]\n[10 18 26 34 42]\n[10 18 26 34 42]\n[50 58 66 74 82 90 98]\n"
    }
   ],
   "source": [
    "my_array = np.arange(10, 100, 8)\n",
    "print(my_array, '\\n')\n",
    "\n",
    "print(my_array[8])\n",
    "print(my_array[1:5])\n",
    "print(my_array[0:5])\n",
    "print(my_array[:5])\n",
    "print(my_array[5:])"
   ]
  },
  {
   "cell_type": "markdown",
   "metadata": {},
   "source": [
    "To return a single value from a specific index from the array, you can define an argument inside the square brackets, for example, my_array[8] to get value from index 8. On the other hand, to get the values in a range like a python list, you can use slice notation. We need to define the starting index and the stop index.\n",
    "\n",
    "For instance, my_array[1:5], will return the value from index 1 and go all the way up to index 5. Remember from the earlier explanation, in the arange section, that the second argument value is not included in indexing because the index starts from 0. To show another example of this, you can type my_array[0:5], and this will returns the values from index 0 up to index 5.\n",
    "\n",
    "You can also remove the stop point or the start point to indicate that you want everything else in the array, everything from the beginning of the array. For instance, if you want everything up to index 5, instead of specifying the starting parameter as 0, you can put my_array[:5], and this will return everything starts from the array to index 5. This is the same thing as calling syntax my_array[0:5].\n",
    "\n",
    "Similarly, if you want to start at a particular index and grab the rest of the value up to the end of the array, you can use the same slicing notation, for example, my_array[5:]."
   ]
  },
  {
   "cell_type": "markdown",
   "metadata": {},
   "source": [
    "# Broadcast\n",
    "\n",
    "Numpy array is different from a standard Python list because of its ability to broadcast. Try to run this syntax my_array[0:5] = 100. This command is going to broadcast to those first five indexes to all be 100. On the other hand, you can create a new variable that equal to a certain slice from the original array."
   ]
  },
  {
   "cell_type": "code",
   "execution_count": 51,
   "metadata": {
    "tags": []
   },
   "outputs": [
    {
     "output_type": "stream",
     "name": "stdout",
     "text": "[10 18 26 34 42 50 58 66 74 82 90 98] \n\n[100 100 100 100 100  50  58  66  74  82  90  98]\n"
    }
   ],
   "source": [
    "my_array = np.arange(10, 100, 8)\n",
    "print(my_array, '\\n')\n",
    "\n",
    "my_array[0:5] = 100\n",
    "print(my_array)"
   ]
  },
  {
   "cell_type": "code",
   "execution_count": 52,
   "metadata": {
    "tags": []
   },
   "outputs": [
    {
     "output_type": "stream",
     "name": "stdout",
     "text": "Value from orginal my_array:\n[10 18 26 34 42 50 58 66 74 82 90 98]\n\nValue from slice_of_array:\n[10 18 26 34 42 50]\n\nslice_of_array new value:\n[100 100 100 100 100 100]\n\nValue from original my_array:\n[100 100 100 100 100 100  58  66  74  82  90  98]\n\nValue from copy of my_array:\n[10 18 26 34 42 50 58 66 74 82 90 98]\n"
    }
   ],
   "source": [
    "my_array = np.arange(10, 100, 8)\n",
    "my_array_copy = my_array.copy()\n",
    "\n",
    "print('Value from orginal my_array:\\n{}'.format(my_array))\n",
    "\n",
    "slice_of_array = my_array[0:6]\n",
    "print('\\nValue from slice_of_array:\\n{}'.format(slice_of_array))\n",
    "\n",
    "slice_of_array[:] = 100\n",
    "print('\\nslice_of_array new value:\\n{}'.format(slice_of_array))\n",
    "\n",
    "print('\\nValue from original my_array:\\n{}'.format(my_array))\n",
    "print('\\nValue from copy of my_array:\\n{}'.format(my_array_copy))"
   ]
  },
  {
   "cell_type": "markdown",
   "metadata": {},
   "source": [
    "If it is a little confusing for you, that is fine. The basic premise is that if you grab a slice of the array and set it as a variable without explicitly saying that you want a copy of the array, you should keep in mind that you are viewing a link to the original array. The changes you do will also affect the original array."
   ]
  },
  {
   "cell_type": "markdown",
   "metadata": {},
   "source": [
    "# Matrix Indexing\n",
    "\n",
    "Now, we are going to talk about indexing a 2D array, otherwise known as a matrix. We have my_2d_array variable here, and we have 3 rows with 3 columns. It is a two-dimensional matrix. There are two general formats for grabbing elements from a 2D array or matrix. There are a double bracket format and a single bracket format with the comma, which is the recommended format to use."
   ]
  },
  {
   "cell_type": "code",
   "execution_count": 53,
   "metadata": {
    "tags": []
   },
   "outputs": [
    {
     "output_type": "stream",
     "name": "stdout",
     "text": "Two-dimensional matrix:\n[[25 19 46]\n [22 38 16]\n [86 92 53]] \n\nDouble bracket format\n[25 19 46]\n25\n38\n92\n\nSingle bracket with comma\n[25 19 46]\n25\n38\n92\n"
    }
   ],
   "source": [
    "my_2d_array = np.array([[25, 19, 46], [22, 38, 16], [86, 92, 53]])\n",
    "print('Two-dimensional matrix:\\n{}'.format(my_2d_array), '\\n')\n",
    "\n",
    "# Double bracket format\n",
    "print('Double bracket format')\n",
    "print(my_2d_array[0])\n",
    "print(my_2d_array[0] [0])\n",
    "print(my_2d_array[1] [1])\n",
    "print(my_2d_array[2] [1])\n",
    "\n",
    "# Single bracket format with comma\n",
    "print('\\nSingle bracket with comma')\n",
    "print(my_2d_array[0])\n",
    "print(my_2d_array[0, 0])\n",
    "print(my_2d_array[1, 1])\n",
    "print(my_2d_array[2, 1])\n"
   ]
  },
  {
   "cell_type": "markdown",
   "metadata": {},
   "source": [
    "Imagine that you did not want a single element, but actual chunks of the array. For instance, you want some matrices from the matrix. You can use a colon for slice notation to grab certain sections of the entire 2D array."
   ]
  },
  {
   "cell_type": "code",
   "execution_count": 54,
   "metadata": {
    "tags": []
   },
   "outputs": [
    {
     "output_type": "stream",
     "name": "stdout",
     "text": "Two-dimensional matrix:\n[[25 19 46]\n [22 38 16]\n [86 92 53]] \n\nChunk selection with slice notation:\n[[25 19 46]\n [22 38 16]] \n\n[[19 46]\n [38 16]\n [92 53]] \n\n[[19 46]\n [38 16]]\n"
    }
   ],
   "source": [
    "my_2d_array = np.array([[25, 19, 46], [22, 38, 16], [86, 92, 53]])\n",
    "print('Two-dimensional matrix:\\n{}'.format(my_2d_array), '\\n')\n",
    "\n",
    "# Chunk selection with slice notation\n",
    "print('Chunk selection with slice notation:')\n",
    "print(my_2d_array[:2, :], '\\n')\n",
    "print(my_2d_array[:, 1 :], '\\n')\n",
    "print(my_2d_array[:2, 1 :])\n"
   ]
  },
  {
   "cell_type": "markdown",
   "metadata": {},
   "source": [
    "# Conditional Selection\n",
    "\n",
    "We can grab some values of the array with a conditional selection through comparison operators."
   ]
  },
  {
   "cell_type": "code",
   "execution_count": 57,
   "metadata": {
    "tags": []
   },
   "outputs": [
    {
     "output_type": "stream",
     "name": "stdout",
     "text": "[ 0  1  2  3  4  5  6  7  8  9 10]\n[False False False False False False  True  True  True  True  True] \n\ncondition array using variable: \n[ 6  7  8  9 10]\n\ncondition array using argument: \n[ 6  7  8  9 10]\n[0 1 2]\n"
    }
   ],
   "source": [
    "my_array = np.arange(0, 11)\n",
    "\n",
    "# Creating variable for the condition\n",
    "bool_array = my_array > 5\n",
    "\n",
    "print(my_array)\n",
    "print(bool_array, '\\n')\n",
    "\n",
    "# Return condition array using variable\n",
    "print('condition array using variable: \\n{}'.format(my_array[bool_array]))\n",
    "\n",
    "# Return condition array using argument\n",
    "print('\\ncondition array using argument: \\n{}'.format(my_array[my_array >5]))\n",
    "print(my_array[my_array < 3])\n"
   ]
  },
  {
   "cell_type": "markdown",
   "metadata": {},
   "source": [
    "This process will return a full boolean array indicating true and false results. It is mean that if you compare the array to a single digit, for instance, my_array > 5, you will get an array of boolean values. So these are true or false values. It would return false wherever that comparison is false and true if that comparison was true. You can assign the comparison operators into variables and use them as a conditional selection."
   ]
  },
  {
   "cell_type": "markdown",
   "metadata": {},
   "source": [
    "# Operations\n",
    "\n",
    "We are going to show you basic operation you can perform on NumPy arrays, such as array with array operations, the array with scalar operations, and some universal array functions. You can perform an array with array operations using simple arithmetic signs.\n",
    "\n",
    "For instance, if you want to add two arrays together on elements by elements basis, you would say my_array + my_array. Essentially, every number’s been doubled. You can do the same process for subtraction or even multiplication.\n",
    "\n",
    "You can also perform an array with scalar operations. For example, my_array + 100, scalar means a single number, and what NumPy does is broadcasts that number to every element in the array. This also works for multiplication, division, and subtraction. You can also do arrays with exponents, for example, my_array ** 2, this is the array to the power of two.\n",
    "NumPy basic operation"
   ]
  },
  {
   "cell_type": "code",
   "execution_count": 58,
   "metadata": {
    "tags": []
   },
   "outputs": [
    {
     "output_type": "stream",
     "name": "stdout",
     "text": "[ 0  1  2  3  4  5  6  7  8  9 10] \n\n[ 0  2  4  6  8 10 12 14 16 18 20]\n[0 0 0 0 0 0 0 0 0 0 0]\n[  0   1   4   9  16  25  36  49  64  81 100] \n\nScalar array value with 100:\n[100 101 102 103 104 105 106 107 108 109 110]\n[-100  -99  -98  -97  -96  -95  -94  -93  -92  -91  -90]\n[   0  100  200  300  400  500  600  700  800  900 1000]\n[0.   0.01 0.02 0.03 0.04 0.05 0.06 0.07 0.08 0.09 0.1 ] \n\nExponent array value:\n[  0   1   4   9  16  25  36  49  64  81 100]\n"
    }
   ],
   "source": [
    "my_array = np.arange(0, 11)\n",
    "print(my_array, '\\n')\n",
    "\n",
    "print(my_array + my_array)\n",
    "print(my_array - my_array)\n",
    "print(my_array * my_array, '\\n')\n",
    "\n",
    "# Scalar operation \n",
    "print('Scalar array value with 100:\\n{}'.format(my_array + 100))\n",
    "print(my_array - 100)\n",
    "print(my_array * 100)\n",
    "print(my_array / 100, '\\n')\n",
    "\n",
    "# Exponential\n",
    "print('Exponent array value:\\n{}'.format(my_array ** 2))"
   ]
  },
  {
   "cell_type": "markdown",
   "metadata": {},
   "source": [
    "Please Note:\n",
    "Numpy will issue a warning instead of outputting errors on certain mathematical operations, however, you still get an output.For example, my_array / my_array.\n",
    "Any array value divided by 0, will returns:[nan  1.  1.  1.  1.  1.  1.  1.  1.  1.  1.]\n",
    "RuntimeWarning: invalid value encountered in true_divideOn the other hand, 1 / my_array.\n",
    "If 1 divided by 0, you will also get a warning:[       inf 1.         0.5        0.33333333 0.25       0.2\n",
    " 0.16666667 0.14285714 0.125      0.11111111 0.1       ]\n",
    "RuntimeWarning: divide by zero encountered in true_divide\n",
    "In this case, it will show infinity instead of nan."
   ]
  },
  {
   "cell_type": "markdown",
   "metadata": {},
   "source": [
    "Numpy comes with many universal array functions, which are mostly just mathematical operations². You can use it to perform the action and broadcast it across the entire array. For instance, if you want to take the square root of every element in the array, you can say np.sqrt and then pass the array in the argument. This will make the square root of everything in the array.\n",
    "\n",
    "Similarly, you can say np.exp and pass in the array into the argument for calculating the exponential. You can even use trigonometric functions such as sin and cos. This will pass every element into sin and cosine."
   ]
  },
  {
   "cell_type": "code",
   "execution_count": 59,
   "metadata": {
    "tags": []
   },
   "outputs": [
    {
     "output_type": "stream",
     "name": "stdout",
     "text": "[ 0  1  2  3  4  5  6  7  8  9 10] \n\nSquare root and exponential:\n[0.         1.         1.41421356 1.73205081 2.         2.23606798\n 2.44948974 2.64575131 2.82842712 3.         3.16227766]\n[1.00000000e+00 2.71828183e+00 7.38905610e+00 2.00855369e+01\n 5.45981500e+01 1.48413159e+02 4.03428793e+02 1.09663316e+03\n 2.98095799e+03 8.10308393e+03 2.20264658e+04]\n\nTrigonometric function:\n[ 0.          0.84147098  0.90929743  0.14112001 -0.7568025  -0.95892427\n -0.2794155   0.6569866   0.98935825  0.41211849 -0.54402111]\n[ 1.          0.54030231 -0.41614684 -0.9899925  -0.65364362  0.28366219\n  0.96017029  0.75390225 -0.14550003 -0.91113026 -0.83907153]\n"
    }
   ],
   "source": [
    "my_array = np.arange(0, 11)\n",
    "print(my_array, '\\n')\n",
    "\n",
    "# Univerasl math operation\n",
    "print('Square root and exponential:\\n{}'.format(np.sqrt(my_array)))\n",
    "print(np.exp(my_array))\n",
    "\n",
    "# Trigonometric function\n",
    "print('\\nTrigonometric function:\\n{}'.format(np.sin(my_array)))\n",
    "print(np.cos(my_array))"
   ]
  },
  {
   "cell_type": "markdown",
   "metadata": {},
   "source": [
    "# References\n",
    "1 NumPy https://numpy.org/\n",
    "2 Mathematical Function https://numpy.org/doc/stable/reference/routines.math.html\n",
    "3 Cheat Sheet: Data Analysis in Python https://s3.amazonaws.com/assets.datacamp.com/blog_assets/Numpy_Python_Cheat_Sheet.pdf\n"
   ]
  },
  {
   "cell_type": "code",
   "execution_count": null,
   "metadata": {},
   "outputs": [],
   "source": []
  }
 ]
}